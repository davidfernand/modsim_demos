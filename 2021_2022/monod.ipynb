{
 "cells": [
  {
   "cell_type": "markdown",
   "metadata": {},
   "source": [
    "## Model simulation: Biochemical reactor with Monod kinetics"
   ]
  },
  {
   "cell_type": "markdown",
   "metadata": {},
   "source": [
    "$$\\frac{dX}{dt}= \\mu_{max}\\frac{S}{K_{S}+S}X - \\frac{Q}{V}X$$\n",
    "\n",
    "$$\\frac{dS}{dt}= -\\frac{1}{Y} \\mu_{max}\\frac{S}{K_{S}+S}X + \\frac{Q}{V}(S_{in} - S)$$"
   ]
  },
  {
   "cell_type": "code",
   "execution_count": 1,
   "metadata": {},
   "outputs": [],
   "source": [
    "%matplotlib inline\n",
    "\n",
    "# Importer all functionalities\n",
    "import numpy as np\n",
    "import scipy as sp\n",
    "import pandas as pd\n",
    "import math\n",
    "from IPython.display import Image\n",
    "from ipywidgets import interact, fixed, FloatSlider, IntSlider, ToggleButtons, Layout\n",
    "\n",
    "%load_ext autoreload\n",
    "%autoreload 1\n",
    "import sys\n",
    "import os\n",
    "sys.path.append(\"functions\")\n",
    "%aimport general_functions\n"
   ]
  },
  {
   "cell_type": "code",
   "execution_count": 2,
   "metadata": {},
   "outputs": [],
   "source": [
    "%aimport monod\n",
    "function_derivatives = monod.model_derivatives"
   ]
  },
  {
   "cell_type": "markdown",
   "metadata": {
    "heading_collapsed": true
   },
   "source": [
    "## Model simulation"
   ]
  },
  {
   "cell_type": "code",
   "execution_count": 3,
   "metadata": {
    "hidden": true
   },
   "outputs": [
    {
     "data": {
      "image/png": "[encoded data removed]",
      "text/plain": [
       "<matplotlib.figure.Figure at 0x21cef479550>"
      ]
     },
     "metadata": {
      "needs_background": "light"
     },
     "output_type": "display_data"
    }
   ],
   "source": [
    "df = general_functions.model(\n",
    "    np.arange(0, 200000, 10), # Timesteps\n",
    "    [1e-5, 0], # Initial conditions\n",
    "    [r'$X$',r'$S$'], # Variable names\n",
    "    function_derivatives, # Function derivatives\n",
    "    returnDataFrame=True, plotresults=True,\n",
    "    # Specify parameter values\n",
    "    mu_max=3e-4, Q=1, V=5000, Y=0.5, K_S=2e-4, S_in=0.001)"
   ]
  },
  {
   "cell_type": "markdown",
   "metadata": {
    "hidden": true
   },
   "source": [
    "$$\\frac{dX}{dt}= \\mu_{max}\\frac{S}{K_{S}+S}X - \\frac{Q}{V}X$$\n",
    "\n",
    "$$\\frac{dS}{dt}= -\\frac{1}{Y} \\mu_{max}\\frac{S}{K_{S}+S}X + \\frac{Q}{V}(S_{in} - S)$$"
   ]
  },
  {
   "cell_type": "markdown",
   "metadata": {
    "heading_collapsed": true
   },
   "source": [
    "## Impact of initial conditions"
   ]
  },
  {
   "cell_type": "code",
   "execution_count": 4,
   "metadata": {
    "hidden": true
   },
   "outputs": [
    {
     "data": {
      "application/vnd.jupyter.widget-view+json": {
       "model_id": "8b6620d0487a438aa1c2d34f75a4e2cd",
       "version_major": 2,
       "version_minor": 0
      },
      "text/plain": [
       "interactive(children=(IntSlider(value=-5, continuous_update=False, description='log(X)', max=0, min=-6), IntSl…"
      ]
     },
     "metadata": {},
     "output_type": "display_data"
    }
   ],
   "source": [
    "def interactive_model(logX, logS):\n",
    "    general_functions.model(\n",
    "        np.arange(0, 200000, 10), # Timesteps\n",
    "        [10**logX, 10**logS], # Initial conditions\n",
    "        [r'$X$',r'$S$'], # Variable names\n",
    "        function_derivatives, # Function derivatives\n",
    "        returnDataFrame=True, plotresults=True,\n",
    "        # Specify parameter values\n",
    "        mu_max=3e-4, Q=1, V=5000, Y=0.5, K_S=2e-4, S_in=0.001)\n",
    "interact(interactive_model,\n",
    "        logX=IntSlider(value=-5, min=-6, max=0, step=1, description=r'log(X)', continuous_update=False),\n",
    "        logS=IntSlider(value=-6, min=-6, max=0, step=1, description=r'log(S)', continuous_update=False));"
   ]
  },
  {
   "cell_type": "markdown",
   "metadata": {
    "hidden": true
   },
   "source": [
    "$$\\frac{dX}{dt}= \\mu_{max}\\frac{S}{K_{S}+S}X - \\frac{Q}{V}X$$\n",
    "\n",
    "$$\\frac{dS}{dt}= -\\frac{1}{Y} \\mu_{max}\\frac{S}{K_{S}+S}X + \\frac{Q}{V}(S_{in} - S)$$"
   ]
  },
  {
   "cell_type": "markdown",
   "metadata": {
    "heading_collapsed": true
   },
   "source": [
    "## Impact of kinetic parameter values"
   ]
  },
  {
   "cell_type": "code",
   "execution_count": 5,
   "metadata": {
    "hidden": true
   },
   "outputs": [
    {
     "data": {
      "application/vnd.jupyter.widget-view+json": {
       "model_id": "8000b76aed69456bbd204242e03b2a98",
       "version_major": 2,
       "version_minor": 0
      },
      "text/plain": [
       "interactive(children=(FloatSlider(value=0.0003, continuous_update=False, description='$\\\\mu_max$', max=0.001, …"
      ]
     },
     "metadata": {},
     "output_type": "display_data"
    }
   ],
   "source": [
    "interact(general_functions.model,\n",
    "         timesteps=fixed(np.arange(0, 200000, 10)), # timesteps\n",
    "         init=fixed([1e-5, 0]), # Initial conditions\n",
    "         varnames=fixed([r'$X$',r'$S$']), # Variable names\n",
    "         f=fixed(function_derivatives), # Function derivatives\n",
    "         returnDataFrame=fixed(False), plotresults=fixed(True),\n",
    "         # Specify the parameter values\n",
    "         mu_max=FloatSlider(value=3e-4, min=1e-4, max=1e-3, step=1e-4, description=r'$\\mu_max$', continuous_update=False,readout_format='.4f'),\n",
    "         Q=fixed(1), V=fixed(5000),\n",
    "         Y=FloatSlider(value=0.5, min=0.1, max=1, step=0.1, description=r'$Y$', continuous_update=False),\n",
    "         K_S=FloatSlider(value=2e-4, min=1e-4, max=1e-3, step=1e-4, description=r'$K_s$', continuous_update=False,readout_format='.4f'), \n",
    "         S_in=fixed(1e-3));"
   ]
  },
  {
   "cell_type": "markdown",
   "metadata": {
    "hidden": true
   },
   "source": [
    "$$\\frac{dX}{dt}= \\mu_{max}\\frac{S}{K_{S}+S}X - \\frac{Q}{V}X$$\n",
    "\n",
    "$$\\frac{dS}{dt}= -\\frac{1}{Y} \\mu_{max}\\frac{S}{K_{S}+S}X + \\frac{Q}{V}(S_{in} - S)$$"
   ]
  },
  {
   "cell_type": "markdown",
   "metadata": {
    "heading_collapsed": true
   },
   "source": [
    "## Impact of flow parameters and inlet $S$"
   ]
  },
  {
   "cell_type": "code",
   "execution_count": 6,
   "metadata": {
    "hidden": true
   },
   "outputs": [
    {
     "data": {
      "application/vnd.jupyter.widget-view+json": {
       "model_id": "61432025b6604d7fa0b8dceb46bb5ec1",
       "version_major": 2,
       "version_minor": 0
      },
      "text/plain": [
       "interactive(children=(FloatSlider(value=1.0, continuous_update=False, description='$Q$', max=5.0, min=0.1, rea…"
      ]
     },
     "metadata": {},
     "output_type": "display_data"
    }
   ],
   "source": [
    "interact(general_functions.model,\n",
    "         timesteps=fixed(np.arange(0, 200000, 10)), # timesteps\n",
    "         init=fixed([1e-5, 0]), # Initial conditions\n",
    "         varnames=fixed([r'$X$',r'$S$']), # Variable names\n",
    "         f=fixed(function_derivatives), # Function derivatives\n",
    "         returnDataFrame=fixed(False), plotresults=fixed(True),\n",
    "         # Specify parameter values\n",
    "         mu_max=fixed(3e-4),\n",
    "         Q=FloatSlider(value=1, min=.1, max=5, step=0.1, description=r'$Q$', continuous_update=False,readout_format='.1f'),\n",
    "         V=FloatSlider(value=5000, min=1000, max=10000, step=1000, description=r'$V$', continuous_update=False,readout_format='4.0d'),\n",
    "         Y=fixed(0.5), K_S=fixed(2e-4), \n",
    "         S_in=FloatSlider(value=1e-3, min=0, max=0.01, step=1e-3, description=r'$S_{in}$', continuous_update=False,readout_format='.3f'));"
   ]
  },
  {
   "cell_type": "markdown",
   "metadata": {
    "hidden": true
   },
   "source": [
    "$$\\frac{dX}{dt}= \\mu_{max}\\frac{S}{K_{S}+S}X - \\frac{Q}{V}X$$\n",
    "\n",
    "$$\\frac{dS}{dt}= -\\frac{1}{Y} \\mu_{max}\\frac{S}{K_{S}+S}X + \\frac{Q}{V}(S_{in} - S)$$"
   ]
  },
  {
   "cell_type": "markdown",
   "metadata": {
    "heading_collapsed": true
   },
   "source": [
    "## Sensitivity analysis of the biochemical reactor with Monod kinetics"
   ]
  },
  {
   "cell_type": "code",
   "execution_count": 7,
   "metadata": {
    "hidden": true
   },
   "outputs": [
    {
     "data": {
      "application/vnd.jupyter.widget-view+json": {
       "model_id": "60e5c48b517d47508b466af7072f4de7",
       "version_major": 2,
       "version_minor": 0
      },
      "text/plain": [
       "interactive(children=(ToggleButtons(description='parametername', options=('mu_max', 'Q', 'V', 'Y', 'K_S', 'S_i…"
      ]
     },
     "metadata": {},
     "output_type": "display_data"
    }
   ],
   "source": [
    "interact(general_functions.sensitivity,\n",
    "    timesteps=fixed(np.arange(0, 200000, 10)), # Timesteps\n",
    "    init=fixed([1e-5, 0]), # Initial conditions\n",
    "    varnames=fixed([r'$X$',r'$S$']), # Variable names\n",
    "    f=fixed(function_derivatives), # Function derivatives\n",
    "    parametername=ToggleButtons(options=['mu_max', 'Q', 'V', 'Y', 'K_S', 'S_in']),\n",
    "    log_perturbation = IntSlider(value=-4, min=-15, max=-1, step=1, continuous_update=False),\n",
    "    sort=ToggleButtons(options=[\n",
    "            'absolute sensitivity', 'relative sensitivity parameter',\n",
    "            'relative sensitivity variable','relative total sensitivity']),\n",
    "    # Specify parameter values\n",
    "    mu_max=fixed(3e-4), Q=fixed(1), V=fixed(5000), Y=fixed(0.5),\n",
    "    K_S=fixed(2e-4), S_in=fixed(1e-3));"
   ]
  }
 ],
 "metadata": {
  "anaconda-cloud": {},
  "interpreter": {
   "hash": "3e05b179a6f1b3d43dc78f183e30163ca03b692d154be2549bbe3fabbd792f43"
  },
  "kernelspec": {
   "display_name": "Python [conda env:py35]",
   "language": "python",
   "name": "python3"
  },
  "language_info": {
   "codemirror_mode": {
    "name": "ipython",
    "version": 3
   },
   "file_extension": ".py",
   "mimetype": "text/x-python",
   "name": "python",
   "nbconvert_exporter": "python",
   "pygments_lexer": "ipython3",
   "version": "3.6.10"
  },
  "widgets": {
   "state": {
    "49fe4396f2b44141b31f5fb27f2298f1": {
     "views": [
      {
       "cell_index": 18
      }
     ]
    },
    "61593e207b0f4eba8a606e305d47c673": {
     "views": [
      {
       "cell_index": 24
      }
     ]
    },
    "a038802db23d465da7c6af922b869868": {
     "views": [
      {
       "cell_index": 9
      }
     ]
    },
    "b4befd08697643898472ad7369d8b0a1": {
     "views": [
      {
       "cell_index": 15
      }
     ]
    },
    "cfd0d3fcc11d4a2ca1645a4c3f23b11a": {
     "views": [
      {
       "cell_index": 12
      }
     ]
    }
   },
   "version": "1.2.0"
  }
 },
 "nbformat": 4,
 "nbformat_minor": 1
}
